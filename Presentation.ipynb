{
 "cells": [
  {
   "cell_type": "markdown",
   "metadata": {},
   "source": [
    "# Free Lossless Audio Codec (FLAC)"
   ]
  },
  {
   "cell_type": "markdown",
   "metadata": {},
   "source": [
    "## Caractéristiques\n",
    "\n",
    "- **Type de données**: Audio\n",
    "- **Extension du fichier**: `.flac`\n",
    "- **Échantillonnage**: variable\n",
    "- **Compression**: Oui\n",
    "- **Perte de données**: Non "
   ]
  },
  {
   "cell_type": "markdown",
   "metadata": {},
   "source": [
    "## Numérisation du signal\n",
    "\n",
    "```mermaid\n",
    "flowchart LR\n",
    "    Signal_analogique -->|Echantillonnage| Signal_numérique\n",
    "    Signal_numérique -->|Encodage| Signal_encodé\n",
    "\n",
    "    Signal_encodé -->|Décodage| Signal_numérique\n",
    "    Signal_numérique -->|Reconstruction| Signal_analogique\n",
    "```\n",
    "\n",
    "- **Signal analogique**: Signal sonore continu dans le temps (exemple : vinyle).\n",
    "- **Signal numérique**: Signal discret en temps et en amplitude (exemple : WAV).\n",
    "- **Signal encodé**: Signal numérique compressé (exemple : FLAC, MP3, AAC, etc.)."
   ]
  },
  {
   "cell_type": "markdown",
   "metadata": {},
   "source": [
    "## Principe d'encodage du FLAC"
   ]
  },
  {
   "cell_type": "markdown",
   "metadata": {},
   "source": [
    "### Prédiction linéaire\n",
    "\n",
    "$$\n",
    "    \\hat{x}_n = \\sum_{i=1}^{p} a_i x_{n-i}\n",
    "$$\n",
    "\n",
    "Où :\n",
    "- $\\hat{x}_n$ est la prédiction.\n",
    "- $a_i$ sont les coefficients de prédiction\n",
    "- $p$ est l'ordre de prédiction"
   ]
  },
  {
   "cell_type": "markdown",
   "metadata": {},
   "source": [
    "#### Résidus\n",
    "\n",
    "Le but est de trouver les coefficients $a_i$ qui minimisent l'erreur les résidus $e_n$ :\n",
    "$$\n",
    "\\begin{align*}\n",
    "    e_n &= x_n - \\hat{x}_n \\\\\n",
    "    e_n &= x_n - \\sum_{i=1}^{p} a_i x_{n-i}\n",
    "\\end{align*}\n",
    "$$"
   ]
  },
  {
   "cell_type": "markdown",
   "metadata": {},
   "source": [
    "#### Equation de Yule-Walker\n",
    "\n",
    "On peut représenter les résidus $e_n$ comme un processus AR(p) :\n",
    "\n",
    "$$\n",
    "    R_i = \\sum_{j=1}^{p} a_j R_{i-j}\n",
    "$$\n",
    "\n",
    "Où :\n",
    "- $R_i$ est la fonction d'autocorrélation\n",
    "- $a_j$ sont les coefficients de prédiction\n",
    "- $p$ est l'ordre de prédiction\n",
    "\n",
    "Résolu par la méthode de **Levinson-Durbin**."
   ]
  },
  {
   "cell_type": "markdown",
   "metadata": {},
   "source": [
    "### Résidus\n",
    "\n",
    "Une fois les coefficient $a_i$ trouvés, les résidus sont calculés :\n",
    "\n",
    "$$\n",
    "    e_n = x_n - \\sum_{i=1}^{p} a_i x_{n-i}\n",
    "$$\n",
    "\n",
    "Ces résidus sont:\n",
    "- Des nombres entiers\n",
    "- Très petits (proche de 0)"
   ]
  },
  {
   "cell_type": "markdown",
   "metadata": {},
   "source": [
    "## Compression\n"
   ]
  },
  {
   "cell_type": "markdown",
   "metadata": {},
   "source": [
    "## Comparaisons\n",
    "\n",
    "Nous allons comparer les différentes caractéristiques des formats audio les plus populaires:\n",
    "\n",
    "- **WAV**: Format audio non compressé.\n",
    "- **MP3**: Ancien format audio compressé avec perte créé par le Fraunhofer Institute.\n",
    "- **AAC**: Format audio compressé avec perte plus récent créé par Apple.\n",
    "- **FLAC**\n",
    "\n",
    "Il y a également d'autres formats audio comme le WMA, OGG, etc. mais nous allons nous concentrer sur les 4 formats cités ci-dessus."
   ]
  },
  {
   "cell_type": "markdown",
   "metadata": {},
   "source": [
    "### Efficacité de la compression\n",
    "\n",
    "1. **AAC**: Compression avec perte (environ 75-90 %).\n",
    "2. **FLAC**: Compression sans perte (environ 30-60 %).\n",
    "3. **MP3**: Compression avec perte (environ 75-90 %).\n",
    "4. **WAV**: Pas de compression (0 %)."
   ]
  },
  {
   "cell_type": "markdown",
   "metadata": {},
   "source": [
    "### Qualité audio\n",
    "\n",
    "1. **WAV** et **FLAC**: Qualité audio maximale.\n",
    "2. **AAC**: Qualité audio très bonne.\n",
    "3. **MP3**: Qualité audio bonne."
   ]
  },
  {
   "cell_type": "markdown",
   "metadata": {},
   "source": [
    "### Usages\n",
    "\n",
    "- **WAV**: Anciennement utilisé par les studios d'enregistrement.\n",
    "- **FLAC**: Utilisé par les studios d'enregistrement, audio-philes, etc.\n",
    "- **AAC**: Utilisé par Apple sur ses appareils.\n",
    "- **MP3**: Anciennement utilisé sur les CD, les baladeurs, etc."
   ]
  },
  {
   "cell_type": "markdown",
   "metadata": {},
   "source": []
  }
 ],
 "metadata": {
  "language_info": {
   "name": "python"
  }
 },
 "nbformat": 4,
 "nbformat_minor": 2
}
