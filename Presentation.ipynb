{
 "cells": [
  {
   "cell_type": "markdown",
   "metadata": {
    "slideshow": {
     "slide_type": "slide"
    }
   },
   "source": [
    "<h1 align=\"center\">🎵 FLAC 🎵</h1>\n",
    "\n",
    "Présenté par Alix ANNERAUD et Haijiao"
   ]
  },
  {
   "cell_type": "markdown",
   "metadata": {
    "slideshow": {
     "slide_type": "slide"
    }
   },
   "source": [
    "# ✅ Caractéristiques\n",
    "\n",
    "- **Type de données**: 🎵\n",
    "- **Extension du fichier**: `.flac`\n",
    "- **Développé par**: Josh Coalson\n",
    "- **Première version**: 20 juillet 2001\n",
    "- **Échantillonnage**: variable\n",
    "- **Compression**: ✅\n",
    "- **Perte de données**: ❌ "
   ]
  },
  {
   "cell_type": "markdown",
   "metadata": {
    "slideshow": {
     "slide_type": "slide"
    }
   },
   "source": [
    "# 📈 Numérisation du signal \n",
    "\n",
    "```mermaid\n",
    "flowchart LR\n",
    "    Signal_analogique[Signal analogique]\n",
    "    Signal_numérique[Signal numérique]\n",
    "    Signal_encodé[Signal encodé]\n",
    "\n",
    "    Signal_analogique -->|Echantillonnage| Signal_numérique\n",
    "    Signal_numérique -->|Encodage| Signal_encodé\n",
    "\n",
    "    Signal_encodé -->|Décodage| Signal_numérique\n",
    "    Signal_numérique -->|Reconstruction| Signal_analogique\n",
    "```\n",
    "\n",
    "- **Signal analogique**: Signal sonore continu dans le temps (exemple : vinyle).\n",
    "- **Signal numérique**: Signal discret en temps et en amplitude (exemple : fichier WAV).\n",
    "- **Signal encodé**: Signal numérique compressé (exemple : fichier FLAC, MP3, AAC, etc.)."
   ]
  },
  {
   "cell_type": "markdown",
   "metadata": {
    "slideshow": {
     "slide_type": "slide"
    }
   },
   "source": [
    "# 🔄 Principe d'encodage"
   ]
  },
  {
   "cell_type": "markdown",
   "metadata": {
    "slideshow": {
     "slide_type": "subslide"
    }
   },
   "source": [
    "## 🔪 Division en blocs\n",
    "\n",
    "Le signal audio est divisé en blocs contenant chacun un nombre identique d'échantillons.\n",
    "\n",
    "\n",
    "```mermaid\n",
    "graph TB\n",
    "    Signal_audio[Signal audio]\n",
    "\n",
    "    Signal_audio -->Canal_1[Canal 1]\n",
    "    Signal_audio -->Canal_2[Canal 2]\n",
    "    Signal_audio -->Canal_...[Canal ...]\n",
    "\n",
    "    Canal_1 -->Bloc_11[Bloc 1]\n",
    "    Canal_1 -->Bloc_12[Bloc 2]\n",
    "    Canal_1 -->Bloc_1...[Bloc ...]\n",
    "\n",
    "    Canal_2 -->Bloc_21[Bloc 1]\n",
    "    Canal_2 -->Bloc_22[Bloc 2]\n",
    "    Canal_2 -->Bloc_2...[Bloc ...]\n",
    "\n",
    "    Canal_... -->Bloc_...1[Bloc 1]\n",
    "    Canal_... -->Bloc_...2[Bloc 2]\n",
    "    Canal_... -->Bloc_......[Bloc ...]\n",
    "```"
   ]
  },
  {
   "cell_type": "markdown",
   "metadata": {
    "slideshow": {
     "slide_type": "slide"
    }
   },
   "source": [
    "## 🔍 Décorrelation inter-canal (optionnel)\n",
    "\n",
    "Dans le cas d'un signal stéréo, les canaux gauche et droit sont décorrelés en deux canaux dit \"latéral\" et \"central\".\n",
    "\n",
    "$$\n",
    "\\begin{align*}\n",
    "    x_\\text{central} &= \\frac{x_\\text{gauche} + x_\\text{droite}}{2} \\\\\n",
    "    x_\\text{latéral} &= x_\\text{gauche} - x_\\text{droite}\n",
    "\\end{align*}\n",
    "$$\n",
    "\n",
    "Réduit la redondance : si les canaux gauche et droit sont identiques, le canal latéral sera null."
   ]
  },
  {
   "cell_type": "markdown",
   "metadata": {
    "slideshow": {
     "slide_type": "subslide"
    }
   },
   "source": [
    "## 📐 Modélisation\n",
    "\n",
    "On cherche à approximer le signal avec une fonction:\n",
    "\n",
    "$$\n",
    "x_n = f(x_{n-1}, x_{n-2}, \\ldots, x_{n-p}) + e_n\n",
    "$$\n",
    "\n",
    "Où:\n",
    "- $x_n$ : échantillon à l'instant $n$\n",
    "- $f$ : fonction de prédiction\n",
    "- $e_n$ : les résidus\n",
    "- $p$ : ordre de la prédiction"
   ]
  },
  {
   "cell_type": "markdown",
   "metadata": {
    "slideshow": {
     "slide_type": "fragment"
    }
   },
   "source": [
    "Le but étant de trouver la fonction $f$ qui minimisent $e_n$ afin de réduire la quantité d'information à stocker. Les deux méthodes utilisés par le FLAC sont:\n",
    "\n",
    "- Ajustement de polynômes simples\n",
    "    - $f(x) = a_0 + a_1 x_{n-1} + a_2 x_{n-2} + \\ldots + a_p x_{n-p}$\n",
    "    - Rapide mais moins efficace\n",
    "- Codage prédictif linéaire\n",
    "    - $f(x) = \\sum_{i=1}^p a_i x_{n-i}$\n",
    "    - Plus complexe mais plus efficace"
   ]
  },
  {
   "cell_type": "markdown",
   "metadata": {},
   "source": [
    "### Ajustement de polynômes simples\n",
    "\n",
    "$$\n",
    "\\begin{align*}\n",
    "    a_0 &= \\frac{\\sum x_n}{N} \\\\\n",
    "    a_1 &= \\frac{\\sum x_n x_{n-1}}{\\sum x_{n-1}^2} \\\\\n",
    "    a_2 &= \\frac{\\sum x_n x_{n-2}}{\\sum x_{n-2}^2} \\\\\n",
    "    &\\vdots \\\\\n",
    "    a_p &= \\frac{\\sum x_n x_{n-p}}{\\sum x_{n-p}^2}\n",
    "\\end{align*}\n",
    "$$"
   ]
  },
  {
   "cell_type": "markdown",
   "metadata": {
    "slideshow": {
     "slide_type": "subslide"
    }
   },
   "source": [
    "### 🔮 Codage prédictif linéaire\n",
    "\n",
    "On peut représenter les résidus $e_n$ comme un processus AR(p) :\n",
    "\n",
    "$$\n",
    "    R_i = \\sum_{j=1}^{p} a_j R_{i-j}\n",
    "$$\n",
    "\n",
    "Où :\n",
    "- $R_i$ est la fonction d'autocorrélation\n",
    "- $a_j$ sont les coefficients de prédiction\n",
    "- $p$ est l'ordre de prédiction\n",
    "\n",
    "Résolu par la méthode de **Levinson-Durbin**."
   ]
  },
  {
   "cell_type": "markdown",
   "metadata": {
    "slideshow": {
     "slide_type": "subslide"
    }
   },
   "source": [
    "## 🗜️ Compression\n",
    "\n",
    "Les résidus sont des nombres entiers très petits (peu de bits significatifs)\n",
    "\n",
    "Codage à longueur variable :\n",
    "\n",
    "- **Golomb-Rice**\n",
    "    - Rapide à encoder et à décoder.\n",
    "    - Efficace pour les distributions de symboles géométriques ou exponentielles.\n",
    "- **Huffman**\n",
    "    - Plus lent à encoder et à décoder.\n",
    "    - Efficace pour les distributions de symboles non uniformes."
   ]
  },
  {
   "cell_type": "markdown",
   "metadata": {},
   "source": [
    "### Codage d'Huffman\n",
    "\n",
    "Pour rappel, pour coder des données:\n",
    "\n",
    "- Calculer la fréquence d'apparition de chaque symbole.\n",
    "- Création d'un arbre binaire où les symboles les plus fréquents sont les plus proches de la racine.\n",
    "- On attribue un code binaire à chaque symbole en parcourant l'arbre."
   ]
  },
  {
   "cell_type": "markdown",
   "metadata": {
    "slideshow": {
     "slide_type": "subslide"
    }
   },
   "source": [
    "### 🍚 Codage de Golomb-Rice\n",
    "\n",
    "Pour coder un nombre entier $N$ avec un paramètre $k$:\n",
    "\n",
    "1. Calculer le quotient $q$ et le reste $r$ : $N = q \\times 2^k + r$.\n",
    "2. Coder le quotient $q$ en unaire ($q$ fois le bit 1 suivi du bit 0): $q_\\text{unaire} = 1^q 0$.\n",
    "3. Coder le reste $r$ en binaire sur $k$ bits: $r_\\text{binaire} = \\text{binaire}(r, k)$\n",
    "4. Combiner les deux parties: $\\text{Résultat final} = q_\\text{unaire} \\, r_\\text{binaire}$\n",
    "\n",
    "Par exemple, pour $N = 10$ et $k = 2$:\n",
    "\n",
    "1. \n",
    "$$\n",
    "\\begin{align*}\n",
    "q = \\left\\lfloor \\frac{10}{2^2} \\right\\rfloor = \\left\\lfloor \\frac{10}{4} \\right\\rfloor = 2 \\\\\n",
    "r = 10 \\mod 4 = 2\n",
    "\\end{align*}\n",
    "$$\n",
    "2. $q_\\text{unaire} = 1110$\n",
    "3. $r_\\text{binaire} = \\text{binaire}(2, 2) = 10$\n",
    "\n",
    "4. $\\text{Résultat final} = 1110 \\, 10$"
   ]
  },
  {
   "cell_type": "markdown",
   "metadata": {
    "slideshow": {
     "slide_type": "slide"
    }
   },
   "source": [
    "# 🔄 Principe de décodage du FLAC"
   ]
  },
  {
   "cell_type": "markdown",
   "metadata": {},
   "source": [
    "Pour décoder un fichier FLAC, il faut :\n",
    "\n",
    "1. Lire les métadonnées\n",
    "\n",
    "2. Décoder les résidus\n",
    "\n",
    "3. Appliquer la prédiction inverse\n",
    "\n",
    "4. Reconstruire le signal audio"
   ]
  },
  {
   "cell_type": "markdown",
   "metadata": {
    "slideshow": {
     "slide_type": "slide"
    }
   },
   "source": [
    "# 🆚 Comparaisons\n",
    "\n",
    "Nous allons comparer les différentes caractéristiques des formats audio les plus populaires:\n",
    "\n",
    "- **WAV**: Format audio non compressé.\n",
    "- **MP3**: Ancien format audio compressé avec perte créé par le Fraunhofer Institute.\n",
    "- **AAC**: Format audio compressé avec perte plus récent créé par Apple.\n",
    "- **FLAC**\n",
    "\n",
    "Il y a également d'autres formats audio comme le WMA, OGG, etc. mais nous allons nous concentrer sur les 4 formats cités ci-dessus."
   ]
  },
  {
   "cell_type": "markdown",
   "metadata": {
    "slideshow": {
     "slide_type": "subslide"
    }
   },
   "source": [
    "## 🗜️ Efficacité de la compression\n",
    "\n",
    "1. **AAC**: Compression avec perte (environ 75-90 %).\n",
    "2. **FLAC**: Compression sans perte (environ 30-60 %).\n",
    "3. **MP3**: Compression avec perte (environ 75-90 %).\n",
    "4. **WAV**: Pas de compression (0 %)."
   ]
  },
  {
   "cell_type": "markdown",
   "metadata": {
    "slideshow": {
     "slide_type": "subslide"
    }
   },
   "source": [
    "## 🎧 Qualité audio\n",
    "\n",
    "1. **WAV** et **FLAC**: Qualité audio maximale.\n",
    "2. **AAC**: Qualité audio très bonne.\n",
    "3. **MP3**: Qualité audio bonne."
   ]
  },
  {
   "cell_type": "markdown",
   "metadata": {
    "slideshow": {
     "slide_type": "subslide"
    }
   },
   "source": [
    "## ⚒️ Usages\n",
    "\n",
    "- **WAV**: Anciennement utilisé par les studios d'enregistrement.\n",
    "- **FLAC**: Utilisé par les studios d'enregistrement, audio-philes, etc.\n",
    "- **AAC**: Utilisé par Apple sur ses appareils.\n",
    "- **MP3**: Anciennement utilisé sur les CD, les baladeurs, etc."
   ]
  },
  {
   "cell_type": "markdown",
   "metadata": {
    "slideshow": {
     "slide_type": "slide"
    }
   },
   "source": [
    "# 👏 Fin\n",
    "\n",
    "Merci pour votre attention ! Cette présentation est maintenant terminée.\n"
   ]
  },
  {
   "cell_type": "markdown",
   "metadata": {
    "slideshow": {
     "slide_type": "subslide"
    }
   },
   "source": [
    "# 📚 Références\n",
    "\n",
    "- Wikipedia : \n",
    "    - [FLAC](https://en.wikipedia.org/wiki/FLAC)\n",
    "    - [Golomb-Rice Coding](https://en.wikipedia.org/wiki/Golomb_coding)\n",
    "    - [Yule-Walker Equations](https://en.wikipedia.org/wiki/Autoregressive_model#Yule-Walker_equations)\n",
    "    - [Levinson-Durbin Algorithm](https://en.wikipedia.org/wiki/Levinson_recursion)\n",
    "    - [Audio File Formats](https://en.wikipedia.org/wiki/Audio_file_format)\n",
    "    - [Comparison of Audio Formats](https://en.wikipedia.org/wiki/Comparison_of_audio_coding_formats)\n",
    "    - [Audio Coding](https://en.wikipedia.org/wiki/Audio_coding_format)\n",
    "    - [Audio Compression](https://en.wikipedia.org/wiki/Audio_compression_(data))\n",
    "\n",
    "- Xiph.org :\n",
    "    - [FLAC - Official Website](https://xiph.org/flac/)\n",
    "    - [FLAC - Technical Documentation](https://xiph.org/flac/documentation_format_overview.html)\n",
    "    - [FLAC - Format Specification](https://xiph.org/flac/format.html)\n",
    "    - [FLAC - Source Code](https://gitlab.xiph.org/xiph/flac)\n"
   ]
  }
 ],
 "metadata": {
  "language_info": {
   "name": "python"
  }
 },
 "nbformat": 4,
 "nbformat_minor": 2
}
