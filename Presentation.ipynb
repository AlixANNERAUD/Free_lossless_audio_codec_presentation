{
 "cells": [
  {
   "cell_type": "code",
   "execution_count": 231,
   "metadata": {
    "slideshow": {
     "slide_type": "skip"
    }
   },
   "outputs": [],
   "source": [
    "import numpy\n",
    "import scipy"
   ]
  },
  {
   "cell_type": "markdown",
   "metadata": {
    "slideshow": {
     "slide_type": "slide"
    }
   },
   "source": [
    "<h1 align=\"center\">🎵 FLAC 🎵</h1>\n",
    "\n",
    "Présenté par Alix ANNERAUD et Haijiao"
   ]
  },
  {
   "cell_type": "markdown",
   "metadata": {
    "slideshow": {
     "slide_type": "slide"
    }
   },
   "source": [
    "# ✅ Caractéristiques\n",
    "\n",
    "- **Type de données**: 🎵\n",
    "- **Extension du fichier**: `.flac`\n",
    "- **Développé par**: Josh Coalson\n",
    "- **Première version**: 20 juillet 2001\n",
    "- **Échantillonnage**: variable\n",
    "- **Compression**: ✅\n",
    "- **Perte de données**: ❌ "
   ]
  },
  {
   "cell_type": "markdown",
   "metadata": {
    "slideshow": {
     "slide_type": "slide"
    }
   },
   "source": [
    "# 📈 Numérisation du signal \n",
    "\n",
    "```mermaid\n",
    "flowchart LR\n",
    "    Signal_analogique[Signal analogique]\n",
    "    Signal_numérique[Signal numérique]\n",
    "    Signal_encodé[Signal encodé]\n",
    "\n",
    "    Signal_analogique -->|Echantillonnage| Signal_numérique\n",
    "    Signal_numérique -->|Encodage| Signal_encodé\n",
    "\n",
    "    Signal_encodé -->|Décodage| Signal_numérique\n",
    "    Signal_numérique -->|Reconstruction| Signal_analogique\n",
    "```\n",
    "\n",
    "- **Signal analogique**: Signal sonore continu dans le temps (exemple : vinyle).\n",
    "- **Signal numérique**: Signal discret en temps et en amplitude (exemple : fichier WAV).\n",
    "- **Signal encodé**: Signal numérique compressé (exemple : fichier FLAC, MP3, AAC, etc.)."
   ]
  },
  {
   "cell_type": "markdown",
   "metadata": {
    "slideshow": {
     "slide_type": "slide"
    }
   },
   "source": [
    "# 🔄 Principe d'encodage"
   ]
  },
  {
   "cell_type": "markdown",
   "metadata": {
    "slideshow": {
     "slide_type": "subslide"
    }
   },
   "source": [
    "## 🔪 Division en blocs\n",
    "\n",
    "Le signal audio est divisé en blocs contenant chacun un nombre identique d'échantillons.\n",
    "\n",
    "\n",
    "```mermaid\n",
    "graph TB\n",
    "    Signal_audio[Signal audio]\n",
    "\n",
    "    Signal_audio -->Canal_1[Canal 1]\n",
    "    Signal_audio -->Canal_2[Canal 2]\n",
    "    Signal_audio -->Canal_...[Canal ...]\n",
    "\n",
    "    Canal_1 -->Bloc_11[Bloc 1]\n",
    "    Canal_1 -->Bloc_12[Bloc 2]\n",
    "    Canal_1 -->Bloc_1...[Bloc ...]\n",
    "\n",
    "    Canal_2 -->Bloc_21[Bloc 1]\n",
    "    Canal_2 -->Bloc_22[Bloc 2]\n",
    "    Canal_2 -->Bloc_2...[Bloc ...]\n",
    "\n",
    "    Canal_... -->Bloc_...1[Bloc 1]\n",
    "    Canal_... -->Bloc_...2[Bloc 2]\n",
    "    Canal_... -->Bloc_......[Bloc ...]\n",
    "```"
   ]
  },
  {
   "cell_type": "markdown",
   "metadata": {
    "slideshow": {
     "slide_type": "slide"
    }
   },
   "source": [
    "## 🔍 Décorrelation inter-canal (optionnel)\n",
    "\n",
    "Dans le cas d'un signal stéréo, les canaux gauche et droit sont décorrelés en deux canaux dit \"latéral\" et \"central\".\n",
    "\n",
    "$$\n",
    "\\begin{align*}\n",
    "    x_\\text{central} &= \\frac{x_\\text{gauche} + x_\\text{droite}}{2} \\\\\n",
    "    x_\\text{latéral} &= x_\\text{gauche} - x_\\text{droite}\n",
    "\\end{align*}\n",
    "$$\n",
    "\n",
    "Réduit la redondance : si les canaux gauche et droit sont identiques, le canal latéral sera null."
   ]
  },
  {
   "cell_type": "code",
   "execution_count": 245,
   "metadata": {
    "slideshow": {
     "slide_type": "subslide"
    }
   },
   "outputs": [
    {
     "name": "stdout",
     "output_type": "stream",
     "text": [
      "Signal gauche: [7 3 2 2 7 0 9 5 4 9]\n",
      "Signal droite: [8 8 7 0 6 3 7 1 7 7]\n",
      "Signal central: [7.5 5.5 4.5 1.  6.5 1.5 8.  3.  5.5 8. ]\n",
      "Signal latéral: [-1 -5 -5  2  1 -3  2  4 -3  2]\n"
     ]
    }
   ],
   "source": [
    "def decorreller(signal):\n",
    "    signal_central = signal.mean(axis=0)\n",
    "    signal_lateral = signal[0] - signal[1]\n",
    "\n",
    "    return (signal_central, signal_lateral)\n",
    "    \n",
    "signal = numpy.random.randint(0, 10, (2, 10))\n",
    "signal_central, signal_lateral = decorreller(signal)\n",
    "\n",
    "print(f\"Signal gauche: {signal[0]}\")\n",
    "print(f\"Signal droite: {signal[1]}\")\n",
    "print(f\"Signal central: {signal_central}\")\n",
    "print(f\"Signal latéral: {signal_lateral}\")\n"
   ]
  },
  {
   "cell_type": "markdown",
   "metadata": {
    "slideshow": {
     "slide_type": "subslide"
    }
   },
   "source": [
    "## 📐 Modélisation\n",
    "\n",
    "On cherche à approximer le signal avec une fonction:\n",
    "\n",
    "$$\n",
    "x_n = f(x_{n-1}, x_{n-2}, \\ldots, x_{n-p}) + e_n\n",
    "$$\n",
    "\n",
    "Où:\n",
    "- $x_n$ : échantillon à l'instant $n$\n",
    "- $f$ : fonction de prédiction\n",
    "- $e_n$ : les résidus\n",
    "- $p$ : ordre de la prédiction"
   ]
  },
  {
   "cell_type": "markdown",
   "metadata": {
    "slideshow": {
     "slide_type": "fragment"
    }
   },
   "source": [
    "Le but étant de trouver la fonction $f$ qui minimisent $e_n$ afin de réduire la quantité d'information à stocker. Les deux méthodes utilisés par le FLAC sont:\n",
    "\n",
    "- Ajustement de polynômes simples\n",
    "    - $f(x) = a_0 + a_1 x_{n-1} + a_2 x_{n-2} + \\ldots + a_p x_{n-p}$\n",
    "    - Rapide mais moins efficace\n",
    "- Codage prédictif linéaire\n",
    "    - $f(x) = \\sum_{i=1}^p a_i x_{n-i}$\n",
    "    - Plus complexe mais plus efficace"
   ]
  },
  {
   "cell_type": "markdown",
   "metadata": {},
   "source": [
    "### Ajustement de polynômes simples\n",
    "\n",
    "$$\n",
    "\\begin{align*}\n",
    "    a_0 &= \\frac{\\sum x_n}{N} \\\\\n",
    "    a_1 &= \\frac{\\sum x_n x_{n-1}}{\\sum x_{n-1}^2} \\\\\n",
    "    a_2 &= \\frac{\\sum x_n x_{n-2}}{\\sum x_{n-2}^2} \\\\\n",
    "    &\\vdots \\\\\n",
    "    a_p &= \\frac{\\sum x_n x_{n-p}}{\\sum x_{n-p}^2}\n",
    "\\end{align*}\n",
    "$$"
   ]
  },
  {
   "cell_type": "markdown",
   "metadata": {
    "slideshow": {
     "slide_type": "subslide"
    }
   },
   "source": [
    "### 🔮 Codage prédictif linéaire\n",
    "\n",
    "On peut représenter les résidus $e_n$ comme un processus AR(p) :\n",
    "\n",
    "$$\n",
    "    R_i = \\sum_{j=1}^{p} a_j R_{i-j}\n",
    "$$\n",
    "\n",
    "Où :\n",
    "- $R_i$ est la fonction d'autocorrélation\n",
    "- $a_j$ sont les coefficients de prédiction\n",
    "- $p$ est l'ordre de prédiction\n",
    "\n",
    "Résolu par la méthode de **Levinson-Durbin**."
   ]
  },
  {
   "cell_type": "code",
   "execution_count": 233,
   "metadata": {},
   "outputs": [
    {
     "name": "stdout",
     "output_type": "stream",
     "text": [
      "Coefficients: [0.09452747 0.10225915 0.09023658 0.08651685 0.10333994 0.08573053\n",
      " 0.13947313 0.08106751 0.07917986 0.10597255]\n",
      "Signal: [50335  9415 64657 ... 59923 41566 44234] (valeurs uniques: 3878)\n",
      "Prédictions: [    0     0     0 ... 32978 40663 40911]\n",
      "Résidus: [50335  9415 64657 ... 26945   903  3323] (valeurs uniques: 3893)\n"
     ]
    }
   ],
   "source": [
    "def codage_predictif_lineaire(signal, ordre):\n",
    "    autocorrelation = numpy.correlate(signal, signal, mode='full')\n",
    "    autocorrelation = autocorrelation[len(autocorrelation)//2:]\n",
    "   \n",
    "    R = scipy.linalg.toeplitz(autocorrelation[:ordre])\n",
    "    r = autocorrelation[1:ordre+1]\n",
    "    coefficients = scipy.linalg.solve_toeplitz((R[:, 0], R[0, :]), r)\n",
    "\n",
    "    return coefficients\n",
    "    \n",
    "def prediction_lineaire(signal, ordre):\n",
    "    prediction = numpy.zeros_like(signal)\n",
    "    for i in range(ordre, len(signal)):\n",
    "        prediction[i] = numpy.dot(coefficients, signal[i-ordre:i][::-1])\n",
    "    \n",
    "    return prediction\n",
    "\n",
    "signal = numpy.random.randint(0, 65535, 4000)  # Signal aléatoire de 10 échantillons\n",
    "\n",
    "coefficients = codage_predictif_lineaire(signal, 10)\n",
    "predictions = prediction_lineaire(signal, 10)\n",
    "residus = signal - predictions\n",
    "\n",
    "print(f'Coefficients: {coefficients}')\n",
    "print(f'Signal: {signal} (valeurs uniques: {len(numpy.unique(signal))})')\n",
    "print(f'Prédictions: {predictions}')\n",
    "print(f'Résidus: {residus} (valeurs uniques: {len(numpy.unique(residus))})')"
   ]
  },
  {
   "cell_type": "markdown",
   "metadata": {
    "slideshow": {
     "slide_type": "subslide"
    }
   },
   "source": [
    "## 🗜️ Compression\n",
    "\n",
    "Les résidus sont des nombres entiers très petits (peu de bits significatifs)\n",
    "\n",
    "Codage à longueur variable :\n",
    "\n",
    "- **Golomb-Rice**\n",
    "    - Rapide à encoder et à décoder.\n",
    "    - Efficace pour les distributions de symboles géométriques ou exponentielles.\n",
    "- **Huffman**\n",
    "    - Plus lent à encoder et à décoder.\n",
    "    - Efficace pour les distributions de symboles non uniformes."
   ]
  },
  {
   "cell_type": "markdown",
   "metadata": {},
   "source": [
    "### 🌳 Codage d'Huffman\n",
    "\n",
    "Pour rappel, pour coder des données:\n",
    "\n",
    "- Calculer la fréquence d'apparition de chaque symbole.\n",
    "- Création d'un arbre binaire où les symboles les plus fréquents sont les plus proches de la racine.\n",
    "- On attribue un code binaire à chaque symbole en parcourant l'arbre."
   ]
  },
  {
   "cell_type": "markdown",
   "metadata": {
    "slideshow": {
     "slide_type": "subslide"
    }
   },
   "source": [
    "### 🍚 Codage de Golomb-Rice\n",
    "\n",
    "Pour coder un nombre $N$ avec un paramètre $k$:\n",
    "\n",
    "1. Calculer le quotient $q$ et le reste $r$ : $N = q \\times 2^k + r$.\n",
    "2. Coder le quotient $q$ en unaire ($q$ fois le bit 1 suivi du bit 0): $q_\\text{unaire} = 1^q 0$.\n",
    "3. Coder le reste $r$ en binaire sur $k$ bits: $r_\\text{binaire} = \\text{binaire}(r, k)$\n",
    "4. Combiner les deux parties: $\\text{Résultat final} = q_\\text{unaire} \\, r_\\text{binaire}$"
   ]
  },
  {
   "cell_type": "markdown",
   "metadata": {
    "slideshow": {
     "slide_type": "fragment"
    }
   },
   "source": [
    "Le choix optimal de $k$ :\n",
    "\n",
    "$$\n",
    "k_\\text{optimal} = \\frac{\\log_2 \\left( 2 - \\frac{V}{I} \\right)}{\\log_2 \\left( 1 - \\frac{V}{I} \\right)}\n",
    "$$\n",
    "\n",
    "Où:\n",
    "- $V$ est la quantité de valeurs.\n",
    "- $I$ est la taille de l'intervalle."
   ]
  },
  {
   "cell_type": "code",
   "execution_count": 234,
   "metadata": {
    "slideshow": {
     "slide_type": "subslide"
    }
   },
   "outputs": [
    {
     "name": "stdout",
     "output_type": "stream",
     "text": [
      " 0 -> 0000\n",
      " 1 -> 0001\n",
      " 2 -> 0010\n",
      " 3 -> 0011\n",
      " 4 -> 0100\n",
      " 5 -> 0101\n",
      " 6 -> 0110\n",
      " 7 -> 0111\n",
      " 8 -> 10000\n",
      " 9 -> 10001\n"
     ]
    }
   ],
   "source": [
    "def encoder_golomb_rice(N, k):\n",
    "    d = 2 ** k\n",
    "    q = N // d   # Calcul du quotient\n",
    "    r = N % d    # Calcul du reste\n",
    "    \n",
    "    q_unaire = '1' * q + '0'         # Encodage du quotient en unaire\n",
    "    r_binaire = format(r, f'0{k}b')  # Encodage du reste en binaire\n",
    "    \n",
    "    return q_unaire + r_binaire   # Concaténation des deux encodages\n",
    "\n",
    "for i in range(10):\n",
    "    print(f'{i:2} -> {encoder_golomb_rice(i, 3)}')"
   ]
  },
  {
   "cell_type": "markdown",
   "metadata": {
    "slideshow": {
     "slide_type": "slide"
    }
   },
   "source": [
    "# 🔄 Principe de décodage du FLAC"
   ]
  },
  {
   "cell_type": "markdown",
   "metadata": {},
   "source": [
    "Pour décoder un fichier FLAC, il faut :\n",
    "\n",
    "1. Lire les métadonnées\n",
    "\n",
    "2. Décoder les résidus\n",
    "\n",
    "3. Appliquer la prédiction inverse\n",
    "\n",
    "4. Reconstruire le signal audio"
   ]
  },
  {
   "cell_type": "markdown",
   "metadata": {
    "slideshow": {
     "slide_type": "slide"
    }
   },
   "source": [
    "# 🆚 Comparaisons\n",
    "\n",
    "Nous allons comparer les différentes caractéristiques des formats audio les plus populaires:\n",
    "\n",
    "- **WAV**: Format audio non compressé.\n",
    "- **MP3**: Ancien format audio compressé avec perte créé par le Fraunhofer Institute.\n",
    "- **AAC**: Format audio compressé avec perte plus récent créé par Apple.\n",
    "- **FLAC**\n",
    "\n",
    "Il y a également d'autres formats audio comme le WMA, OGG, etc. mais nous allons nous concentrer sur les 4 formats cités ci-dessus."
   ]
  },
  {
   "cell_type": "markdown",
   "metadata": {
    "slideshow": {
     "slide_type": "subslide"
    }
   },
   "source": [
    "## 🗜️ Efficacité de la compression\n",
    "\n",
    "1. **AAC**: Compression avec perte (environ 75-90 %).\n",
    "2. **FLAC**: Compression sans perte (environ 30-60 %).\n",
    "3. **MP3**: Compression avec perte (environ 75-90 %).\n",
    "4. **WAV**: Pas de compression (0 %)."
   ]
  },
  {
   "cell_type": "markdown",
   "metadata": {
    "slideshow": {
     "slide_type": "subslide"
    }
   },
   "source": [
    "## 🎧 Qualité audio\n",
    "\n",
    "1. **WAV** et **FLAC**: Qualité audio maximale.\n",
    "2. **AAC**: Qualité audio très bonne.\n",
    "3. **MP3**: Qualité audio bonne."
   ]
  },
  {
   "cell_type": "markdown",
   "metadata": {
    "slideshow": {
     "slide_type": "subslide"
    }
   },
   "source": [
    "## ⚒️ Usages\n",
    "\n",
    "- **WAV**: Anciennement utilisé par les studios d'enregistrement.\n",
    "- **FLAC**: Utilisé par les studios d'enregistrement, audio-philes, etc.\n",
    "- **AAC**: Utilisé par Apple sur ses appareils.\n",
    "- **MP3**: Anciennement utilisé sur les CD, les baladeurs, etc."
   ]
  },
  {
   "cell_type": "markdown",
   "metadata": {
    "slideshow": {
     "slide_type": "slide"
    }
   },
   "source": [
    "# 👏 Fin\n",
    "\n",
    "Merci pour votre attention ! Cette présentation est maintenant terminée.\n"
   ]
  },
  {
   "cell_type": "markdown",
   "metadata": {
    "slideshow": {
     "slide_type": "subslide"
    }
   },
   "source": [
    "# 📚 Références\n",
    "\n",
    "- Wikipedia : \n",
    "    - [FLAC](https://en.wikipedia.org/wiki/FLAC)\n",
    "    - [Golomb-Rice Coding](https://en.wikipedia.org/wiki/Golomb_coding)\n",
    "    - [Yule-Walker Equations](https://en.wikipedia.org/wiki/Autoregressive_model#Yule-Walker_equations)\n",
    "    - [Levinson-Durbin Algorithm](https://en.wikipedia.org/wiki/Levinson_recursion)\n",
    "    - [Audio File Formats](https://en.wikipedia.org/wiki/Audio_file_format)\n",
    "    - [Comparison of Audio Formats](https://en.wikipedia.org/wiki/Comparison_of_audio_coding_formats)\n",
    "    - [Audio Coding](https://en.wikipedia.org/wiki/Audio_coding_format)\n",
    "    - [Audio Compression](https://en.wikipedia.org/wiki/Audio_compression_(data))\n",
    "\n",
    "- Xiph.org :\n",
    "    - [FLAC - Official Website](https://xiph.org/flac/)\n",
    "    - [FLAC - Technical Documentation](https://xiph.org/flac/documentation_format_overview.html)\n",
    "    - [FLAC - Format Specification](https://xiph.org/flac/format.html)\n",
    "    - [FLAC - Source Code](https://gitlab.xiph.org/xiph/flac)\n"
   ]
  }
 ],
 "metadata": {
  "kernelspec": {
   "display_name": ".python_environment",
   "language": "python",
   "name": "python3"
  },
  "language_info": {
   "codemirror_mode": {
    "name": "ipython",
    "version": 3
   },
   "file_extension": ".py",
   "mimetype": "text/x-python",
   "name": "python",
   "nbconvert_exporter": "python",
   "pygments_lexer": "ipython3",
   "version": "3.11.2"
  }
 },
 "nbformat": 4,
 "nbformat_minor": 2
}
